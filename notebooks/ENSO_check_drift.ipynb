{
 "cells": [
  {
   "cell_type": "markdown",
   "metadata": {},
   "source": [
    "# CESM1-DPLE: ENSO Check \n",
    " - Examine Nino3.4 prediction at early lead times\n",
    " - Demonstrates efficient use of dask for processing DPLE data on campaign  "
   ]
  },
  {
   "cell_type": "code",
   "execution_count": null,
   "metadata": {},
   "outputs": [],
   "source": [
    "import xarray as xr \n",
    "import numpy as np  \n",
    "import cftime\n",
    "import copy\n",
    "import scipy.stats\n",
    "from scipy import signal\n",
    "import cartopy.crs as ccrs\n",
    "import glob\n",
    "import dask\n",
    "import matplotlib.pyplot as plt\n",
    "import cesm_esptools\n",
    "%matplotlib inline"
   ]
  },
  {
   "cell_type": "markdown",
   "metadata": {},
   "source": [
    "## Create Dask Cluster"
   ]
  },
  {
   "cell_type": "code",
   "execution_count": null,
   "metadata": {},
   "outputs": [],
   "source": [
    "# Close out Dask Cluster and release workers:\n",
    "# NOTE:  only run this cell to terminate Dask Cluster!\n",
    "cluster.shutdown()\n",
    "client.close()"
   ]
  },
  {
   "cell_type": "code",
   "execution_count": null,
   "metadata": {
    "tags": []
   },
   "outputs": [],
   "source": [
    "# ONLY RUN THIS CELL ONCE\n",
    "# NOTE: you may need to change the project number\n",
    "from dask_jobqueue import PBSCluster\n",
    "from dask.distributed import Client\n",
    "proj = 'NCGD0011'\n",
    "\n",
    "# Setup your PBSCluster\n",
    "cluster = PBSCluster(\n",
    "    cores=1, # The number of cores you want\n",
    "    memory='10GB', # Amount of memory\n",
    "    processes=1, # How many processes\n",
    "    queue='casper', # The type of queue to utilize (/glade/u/apps/dav/opt/usr/bin/execcasper)\n",
    "    local_directory='$TMPDIR', # Use your local directory\n",
    "    resource_spec='select=1:ncpus=1:mem=10GB', # Specify resources\n",
    "    project=proj, # Input your project ID here\n",
    "    walltime='02:00:00', # Amount of wall time\n",
    "    interface='ib0', # Interface to use\n",
    ")\n",
    "\n",
    "# Scale up\n",
    "#cluster.scale(18)\n",
    "cluster.adapt(minimum=1,maximum=20,wait_count=60)\n",
    "\n",
    "# Change your url to the dask dashboard so you can see it\n",
    "dask.config.set({'distributed.dashboard.link':'https://jupyterhub.hpc.ucar.edu/stable/user/{USER}/proxy/{port}/status'})\n",
    "\n",
    "# Setup your client\n",
    "client = Client(cluster)"
   ]
  },
  {
   "cell_type": "code",
   "execution_count": null,
   "metadata": {},
   "outputs": [],
   "source": [
    "#cluster\n",
    "client\n",
    "#client.restart() #for when workers get dropped or other oops moments"
   ]
  },
  {
   "cell_type": "markdown",
   "metadata": {},
   "source": [
    "### Data I/O functions:\n",
    " - Now inside package\n"
   ]
  },
  {
   "cell_type": "markdown",
   "metadata": {},
   "source": [
    "# Main Processing"
   ]
  },
  {
   "cell_type": "markdown",
   "metadata": {},
   "source": [
    "### Read in POP monthly field\n",
    "- Design preprocessing function tailored for task \n",
    "- Chosen field is returned as a dask array with leading dimensions of Y (initialization year), M (ensemble member), and L (lead month)\n",
    "- \"time\" and \"time_bound\" variables, which give prediction verification time, are also dimensioned with (Y,L) "
   ]
  },
  {
   "cell_type": "code",
   "execution_count": null,
   "metadata": {},
   "outputs": [],
   "source": [
    "#Setting up functions\n",
    "\n",
    "field = 'TEMP'\n",
    "datadir = '/glade/campaign/cesm/collections/CESM1-DPLE/ocn/proc/tseries/monthly/'\n",
    "casename = 'b.e11.BDP.f09_g16.????-MM.EEE'\n",
    "filetemplate = datadir+field+'/'+casename+'.pop.h.'+field+'.*.nc'\n",
    "ens = 40 #range(40) #code should handle ranges too\n",
    "#leadtimes = range(122)\n",
    "ltimes = 24\n",
    "#leadtimes = range(ltimes)\n",
    "firstyear = 1970\n",
    "lastyear  = 2018\n",
    "startmonth = 11\n",
    "\n",
    "## User tasks go here; currently a required input for get_monthly_data;\n",
    "def preprocess(ds):\n",
    "    return ds.isel({'z_t':0, 'time':slice(0,ltimes)})"
   ]
  },
  {
   "cell_type": "code",
   "execution_count": null,
   "metadata": {},
   "outputs": [],
   "source": []
  },
  {
   "cell_type": "code",
   "execution_count": null,
   "metadata": {},
   "outputs": [],
   "source": [
    "%%time\n",
    "# DPLE data\n",
    "# process all 40 ensemble members, first 24 months, all November start dates from 1970-2018:\n",
    "\n",
    "#chunks={'z_t':1,'nlat':80}\n",
    "dple_temp = cesm_esptools.get_monthly_data(filetemplate, ens, field, firstyear, lastyear, startmonth,\\\n",
    "                                         preprocess, client=client)\n",
    "dple_temp.nbytes/1e9 #GB"
   ]
  },
  {
   "cell_type": "code",
   "execution_count": null,
   "metadata": {},
   "outputs": [],
   "source": [
    "# Load this in memory to speed up later computations\n",
    "dple_temp = dple_temp.persist()"
   ]
  },
  {
   "cell_type": "markdown",
   "metadata": {},
   "source": [
    "### Compute Nino3.4 Index"
   ]
  },
  {
   "cell_type": "code",
   "execution_count": null,
   "metadata": {},
   "outputs": [],
   "source": [
    "def POP_regional_areawgt(ds,lon_lim,lat_lim):\n",
    "    tarea = ds.TAREA\n",
    "    tlat = ds.TLAT\n",
    "    tlon = xr.where(ds.TLONG>180.,ds.TLONG-360.,ds.TLONG)\n",
    "    region = (tlat>=lat_lim[0]) & (tlat<=lat_lim[1]) & (tlon>=lon_lim[0]) & (tlon<=lon_lim[1])\n",
    "    return xr.where(region,tarea.fillna(0),0)"
   ]
  },
  {
   "cell_type": "code",
   "execution_count": null,
   "metadata": {},
   "outputs": [],
   "source": [
    "POPg16_nino34_area = POP_regional_areawgt(dple_temp,[-170.,-120.],[-5.,5])"
   ]
  },
  {
   "cell_type": "markdown",
   "metadata": {},
   "source": [
    "- Here, perform actual computation, returning xarray"
   ]
  },
  {
   "cell_type": "code",
   "execution_count": null,
   "metadata": {},
   "outputs": [],
   "source": [
    "%%time\n",
    "dple_nino34 = dple_temp.TEMP.weighted(POPg16_nino34_area).mean((\"nlon\", \"nlat\")).load()\n",
    "dple_time_bound = dple_temp.time_bound.load()\n"
   ]
  },
  {
   "cell_type": "code",
   "execution_count": null,
   "metadata": {},
   "outputs": [],
   "source": [
    "#dple_nino34.load()\n",
    "#time_bound.load()"
   ]
  },
  {
   "cell_type": "code",
   "execution_count": null,
   "metadata": {},
   "outputs": [],
   "source": [
    "# Look at the result\n",
    "#dple_nino34"
   ]
  },
  {
   "cell_type": "code",
   "execution_count": null,
   "metadata": {},
   "outputs": [],
   "source": [
    "# Observed Nino3.4 (NOAA ERSSTv5)\n",
    "ds_obs = xr.open_dataset('/glade/p/cgd/oce/people/yeager/obs/SST/NOAA_ERSSTv5/ersst.v5.188001-202012.gx1v6.nc',decode_times=False)\n",
    "obs_time_vals = [cftime.DatetimeNoLeap(1880+year, 1+month, 15) for year in range(141) for month in range(12)]\n",
    "ds_obs['time'] = obs_time_vals\n",
    "obs_nino34 = ds_obs.sst.weighted(POPg16_nino34_area).mean((\"nlon\", \"nlat\")).load()\n"
   ]
  },
  {
   "cell_type": "code",
   "execution_count": null,
   "metadata": {},
   "outputs": [],
   "source": []
  },
  {
   "cell_type": "markdown",
   "metadata": {},
   "source": [
    "### Drift Removal\n",
    "- Drift removal by lead time "
   ]
  },
  {
   "cell_type": "code",
   "execution_count": null,
   "metadata": {},
   "outputs": [],
   "source": [
    "#Set the start and end year (inclusive) for the climotology\n",
    "cl_y1 = 1980\n",
    "cl_y2 = 1999 \n",
    "\n",
    "cl_d1 = cftime.DatetimeNoLeap(cl_y1,1,1,0,0,0)\n",
    "cl_d2 = cftime.DatetimeNoLeap(cl_y2,12,31,23,59,59)\n",
    "\n",
    "fordrift = dple_nino34.where((dple_time_bound.mean('d2')>cl_d1) & (dple_time_bound.mean('d2')<cl_d2))\n",
    "climodrift = fordrift.mean('M').mean('Y')\n",
    "\n",
    "dple_nino34_anom = dple_nino34 - climodrift\n",
    "\n",
    "\n",
    "obs_nino34_anom = obs_nino34.groupby('time.month') - obs_nino34.sel(time=slice(cl_d1,cl_d2)).groupby('time.month').mean('time')\n",
    "\n",
    "plt.plot(climodrift.L, climodrift)\n",
    "plt.xlabel('Lead time')\n",
    "plt.ylabel('Nino34 Climo + Drift (degC)');\n"
   ]
  },
  {
   "cell_type": "code",
   "execution_count": null,
   "metadata": {},
   "outputs": [],
   "source": [
    "#Using package instead\n",
    "dple_nino34_anom, nino34_climodrift = cesm_esptools.remove_drift(dple_nino34, dple_time_bound, cl_y1, cl_y2)\n",
    "\n",
    "plt.plot(nino34_climodrift.L, nino34_climodrift)\n",
    "plt.xlabel('Lead time')\n",
    "plt.ylabel('Nino34 Climo + Drift (degC)');\n"
   ]
  },
  {
   "cell_type": "markdown",
   "metadata": {},
   "source": [
    "### Generate Plot\n",
    "- For some reason, I can't get `errorbar` or `scatter` plot methods to handle the cftime.DatetimeNoLeap time values. `plot` can handle it. \n",
    "The error message reports it needs cftime.datetime objects, but isinstance(dpletime.values[0],cftime.datetime) returns True."
   ]
  },
  {
   "cell_type": "code",
   "execution_count": null,
   "metadata": {},
   "outputs": [],
   "source": [
    "nlead = 6\n",
    "fig = plt.figure(figsize=(10, nlead*5))\n",
    "nrow = nlead\n",
    "ncol = 1\n",
    "\n",
    "xtickyears = [1960,1965,1975,1985,1995,2005,2015]\n",
    "xticks = [cftime.num2date(0, 'days since '+str(i)+'-01-01 00:00:00', calendar='noleap') for i in xtickyears]\n",
    "xmin = cftime.num2date(0, 'days since 1965-01-01 00:00:00', calendar='noleap')\n",
    "xmax = cftime.num2date(0, 'days since 2021-01-01 00:00:00', calendar='noleap')\n",
    "\n",
    "for i in range(nlead):\n",
    "    thislead = i+1    \n",
    "    dpletime = dple_time_bound.sel(L=thislead).mean('d2')\n",
    "    ax = fig.add_subplot(nrow,ncol,i*ncol+1)\n",
    "    ax.plot(obs_nino34.time, obs_nino34,linewidth=2,color='k',label='OBS')\n",
    "    ax.plot(dpletime,dple_nino34.sel(L=thislead),'.',color='b')\n",
    "    ax.plot(dpletime,dple_nino34.sel(L=thislead).mean('M'),'o',color='r',label='DPLE')\n",
    "    ax.grid()\n",
    "    ax.set_title('Nino3.4 SST, DPLE(40), Forecast Month = {}'.format(thislead), fontdict={'size':16})\n",
    "    ax.set_ylabel(r'$^{\\circ}$C')\n",
    "    ax.set_ylim(23,30)\n",
    "    ax.set_xlim(xmin,xmax)\n",
    "#    ax.set_xticks(xtickyears)\n",
    "    ax.legend(loc='lower right')\n"
   ]
  },
  {
   "cell_type": "code",
   "execution_count": null,
   "metadata": {},
   "outputs": [],
   "source": [
    "nlead = 6\n",
    "fig = plt.figure(figsize=(10, nlead*5))\n",
    "nrow = nlead\n",
    "ncol = 1\n",
    "\n",
    "xtickyears = [1960,1965,1975,1985,1995,2005,2015]\n",
    "xticks = [cftime.num2date(0, 'days since '+str(i)+'-01-01 00:00:00', calendar='noleap') for i in xtickyears]\n",
    "xmin = cftime.num2date(0, 'days since 1965-01-01 00:00:00', calendar='noleap')\n",
    "xmax = cftime.num2date(0, 'days since 2021-01-01 00:00:00', calendar='noleap')\n",
    "\n",
    "for i in range(nlead):\n",
    "    thislead = i+1    \n",
    "    dpletime = dple_time_bound.sel(L=thislead).mean('d2')\n",
    "    ax = fig.add_subplot(nrow,ncol,i*ncol+1)\n",
    "    ax.plot(obs_nino34.time, obs_nino34_anom,linewidth=2,color='k',label='OBS')\n",
    "    ax.plot(dpletime,dple_nino34_anom.sel(L=thislead),'.',color='b')\n",
    "    ax.plot(dpletime,dple_nino34_anom.sel(L=thislead).mean('M'),'o',color='r',label='DPLE')\n",
    "    ax.grid()\n",
    "    ax.set_title('Nino3.4 SST, DPLE(40), Forecast Month = {}'.format(thislead), fontdict={'size':16})\n",
    "    ax.set_ylabel(r'$^{\\circ}$C')\n",
    "    ax.set_ylim(-4,4)\n",
    "    ax.set_xlim(xmin,xmax)\n",
    "#    ax.set_xticks(xtickyears)\n",
    "    ax.legend(loc='lower right')\n"
   ]
  },
  {
   "cell_type": "code",
   "execution_count": null,
   "metadata": {},
   "outputs": [],
   "source": []
  }
 ],
 "metadata": {
  "kernelspec": {
   "display_name": "rapcdi-analysis",
   "language": "python",
   "name": "rapcdi-analysis"
  },
  "language_info": {
   "codemirror_mode": {
    "name": "ipython",
    "version": 3
   },
   "file_extension": ".py",
   "mimetype": "text/x-python",
   "name": "python",
   "nbconvert_exporter": "python",
   "pygments_lexer": "ipython3",
   "version": "3.8.0"
  }
 },
 "nbformat": 4,
 "nbformat_minor": 4
}
